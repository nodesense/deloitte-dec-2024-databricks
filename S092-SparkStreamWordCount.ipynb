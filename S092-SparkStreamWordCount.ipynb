{
 "cells": [
  {
   "cell_type": "code",
   "execution_count": 1,
   "id": "2dae9290-8cd7-47e4-aa25-170c7e5ab818",
   "metadata": {},
   "outputs": [],
   "source": [
    "import findspark\n",
    "findspark.init()"
   ]
  },
  {
   "cell_type": "code",
   "execution_count": 2,
   "id": "24fa417d-207a-4ffc-90eb-6a9511de26d0",
   "metadata": {},
   "outputs": [],
   "source": [
    "from pyspark.conf import SparkConf\n",
    "config = SparkConf()\n",
    "# config.set(\"property\", \"value\")\n",
    "config.setMaster(\"local\").setAppName(\"SparkStreamWordCount\")\n",
    "\n",
    "from pyspark.sql import SparkSession\n",
    "# spark Session, entry point for Spark SQL, DataFrame\n",
    "spark = SparkSession.builder\\\n",
    "                    .config(conf=config)\\\n",
    "                    .getOrCreate()\n",
    "\n",
    "sc = spark.sparkContext"
   ]
  },
  {
   "cell_type": "code",
   "execution_count": 3,
   "id": "7b86021c-22b9-4f15-ab36-b1c4cdf6831e",
   "metadata": {},
   "outputs": [],
   "source": [
    "# pre-requistes\n",
    "\n",
    "# we need a server running on port 9999, that provides text stream to spark\n",
    "# spark stream is a client, that will connect ot a server running on port 9999\n",
    "\n",
    "# terminal, \n",
    "\n",
    "# nc -lk 9999"
   ]
  },
  {
   "cell_type": "code",
   "execution_count": 3,
   "id": "67d0a923-1391-4e17-b6bb-57d996d87a58",
   "metadata": {},
   "outputs": [],
   "source": [
    "# Structured Streaming \n",
    "# based on Data Frame/ internally there is RDD\n",
    "# Micro Batch\n",
    "# spark batch programming, we use spark.read\n",
    "# in streaming, we use readStream\n",
    "# socket is predefined word, represent data comes from TCP/IP socket\n",
    "lineStreamDf = spark\\\n",
    "                .readStream\\\n",
    "                .format(\"socket\")\\\n",
    "                .option(\"host\", \"localhost\")\\\n",
    "                .option(\"port\", 9999)\\\n",
    "                .load()\n",
    "\n",
    "# now spark shall connect the server running on port 9999\n",
    "# then it will wait the input from server\n",
    "# user/developer can write something on server console and Press Enter key\n",
    "# to send to spark / client"
   ]
  },
  {
   "cell_type": "code",
   "execution_count": 4,
   "id": "eee79ea8-b8ac-4536-968c-f404203fe000",
   "metadata": {},
   "outputs": [
    {
     "name": "stdout",
     "output_type": "stream",
     "text": [
      "root\n",
      " |-- value: string (nullable = true)\n",
      "\n"
     ]
    }
   ],
   "source": [
    "lineStreamDf.printSchema()\n",
    "# show will not work for stream, it will cause error\n",
    "#lineStreamDf.show() # good for batchs, not for stream"
   ]
  },
  {
   "cell_type": "code",
   "execution_count": 5,
   "id": "b34802ee-53e1-44ec-9dc6-b6cbb152c38d",
   "metadata": {},
   "outputs": [
    {
     "name": "stdout",
     "output_type": "stream",
     "text": [
      "root\n",
      " |-- word: string (nullable = true)\n",
      "\n"
     ]
    }
   ],
   "source": [
    "from pyspark.sql.functions import split, explode, col\n",
    "# split , split the string using space, convert line into word list\n",
    "# explode project every element in list as element in stream [similar to flatMap]\n",
    "# output is a stream of word\n",
    "# Input \"welcome to Kafka\"\n",
    "# split => [\"welcome\", \"to\", \"Kafka\"]\n",
    "# explode makes every element as stream element\n",
    "# welcome\n",
    "# to\n",
    "# Kafka\n",
    "wordsDf = lineStreamDf.select(explode(split(lineStreamDf.value, \" \")).alias(\"word\"))\n",
    "wordsDf.printSchema()"
   ]
  },
  {
   "cell_type": "code",
   "execution_count": 6,
   "id": "7a9bed8e-0c33-48e8-9694-2407475de276",
   "metadata": {},
   "outputs": [],
   "source": [
    "# word count by group\n",
    "# word  count\n",
    "# Kafka  2..\n",
    "wordCountDf = wordsDf.groupBy(\"word\").count()"
   ]
  },
  {
   "cell_type": "code",
   "execution_count": 7,
   "id": "fe4ea736-84fa-487a-b346-01a97e99e0ea",
   "metadata": {},
   "outputs": [],
   "source": [
    "# print out on console \n",
    "# default batch, as soon possible , latest spark says 100 ms, expect 1 second delay\n",
    "# check this cell or next cell\n",
    "echoOnConsole = wordCountDf.writeStream.outputMode(\"complete\").format(\"console\").start()\n"
   ]
  },
  {
   "cell_type": "code",
   "execution_count": 7,
   "id": "27540b74-7420-4a3d-a2d5-035c50dfca47",
   "metadata": {},
   "outputs": [],
   "source": [
    "# print out on console \n",
    "# Output: update\n",
    "# only print if there is difference in output, not printing all results\n",
    "# default batch, as soon possible , latest spark says 100 ms, expect 1 second delay\n",
    "echoOnConsole = wordCountDf.writeStream.outputMode(\"update\").format(\"console\").start()\n"
   ]
  },
  {
   "cell_type": "code",
   "execution_count": null,
   "id": "5b8af6bc-7b53-41b6-b04f-9a0d46d23f20",
   "metadata": {},
   "outputs": [],
   "source": []
  }
 ],
 "metadata": {
  "kernelspec": {
   "display_name": "Python 3",
   "language": "python",
   "name": "python3"
  },
  "language_info": {
   "codemirror_mode": {
    "name": "ipython",
    "version": 3
   },
   "file_extension": ".py",
   "mimetype": "text/x-python",
   "name": "python",
   "nbconvert_exporter": "python",
   "pygments_lexer": "ipython3",
   "version": "3.7.12"
  }
 },
 "nbformat": 4,
 "nbformat_minor": 5
}
